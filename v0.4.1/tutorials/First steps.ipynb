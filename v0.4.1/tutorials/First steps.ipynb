{
 "cells": [
  {
   "cell_type": "markdown",
   "source": [
    "# First steps"
   ],
   "metadata": {}
  },
  {
   "cell_type": "markdown",
   "source": [
    "This tutorial demonstrates the basic usage of *Spindles.jl* to create spindles\n",
    "and query basic properties."
   ],
   "metadata": {}
  },
  {
   "cell_type": "markdown",
   "source": [
    "## Creating a spindle"
   ],
   "metadata": {}
  },
  {
   "cell_type": "markdown",
   "source": [
    "In this tutorial, we will be working with one of the simplest examples of a spindle: a cube.\n",
    "For example, the unit cube in 3D is given by all points $x = (x_1,x_2,x_3)$ that satisfy\n",
    "$$\n",
    "\\begin{aligned}\n",
    "-1 \\le x_1 &\\le 1 \\\\\n",
    "-1 \\le x_2 &\\le 1 \\\\\n",
    "-1 \\le x_3 &\\le 1\n",
    "\\end{aligned}\n",
    "$$"
   ],
   "metadata": {}
  },
  {
   "cell_type": "markdown",
   "source": [
    "In matrix notation, this is equivalent to the system $Ax \\le b$ where"
   ],
   "metadata": {}
  },
  {
   "outputs": [
    {
     "output_type": "execute_result",
     "data": {
      "text/plain": "6×3 Matrix{Int64}:\n  1   0   0\n -1   0   0\n  0   1   0\n  0  -1   0\n  0   0   1\n  0   0  -1"
     },
     "metadata": {},
     "execution_count": 1
    }
   ],
   "cell_type": "code",
   "source": [
    "A = [1 0 0; -1 0 0; 0 1 0; 0 -1 0; 0 0 1; 0 0 -1]"
   ],
   "metadata": {},
   "execution_count": 1
  },
  {
   "cell_type": "markdown",
   "source": [
    "and"
   ],
   "metadata": {}
  },
  {
   "outputs": [
    {
     "output_type": "execute_result",
     "data": {
      "text/plain": "6-element Vector{Int64}:\n 1\n 1\n 1\n 1\n 1\n 1"
     },
     "metadata": {},
     "execution_count": 2
    }
   ],
   "cell_type": "code",
   "source": [
    "b = [1, 1, 1, 1, 1, 1]"
   ],
   "metadata": {},
   "execution_count": 2
  },
  {
   "cell_type": "markdown",
   "source": [
    "*Spindles.jl* provides a data type for representing and analyzing polytopes:\n",
    "`Polytope`. We may create an object of this type from our data `A` and `b` as follows:"
   ],
   "metadata": {}
  },
  {
   "outputs": [
    {
     "output_type": "execute_result",
     "data": {
      "text/plain": "Polytope{Rational{BigInt}} in 3-space"
     },
     "metadata": {},
     "execution_count": 3
    }
   ],
   "cell_type": "code",
   "source": [
    "using Spindles # hide\n",
    "cube = Polytope(A, b)"
   ],
   "metadata": {},
   "execution_count": 3
  },
  {
   "cell_type": "markdown",
   "source": [
    "> **Tip**\n",
    ">\n",
    "> The 3D unit cube can also be created using the generator function `cube` implemented\n",
    "> in *Spindles.jl*."
   ],
   "metadata": {}
  },
  {
   "cell_type": "markdown",
   "source": [
    "What sets a spindle apart from a general polytope is the existence of two vertices\n",
    "(the apices) whose incident facets partition the set of all facets.\n",
    "We may check `cube` for the existence of such a pair of vertices by running"
   ],
   "metadata": {}
  },
  {
   "outputs": [
    {
     "output_type": "execute_result",
     "data": {
      "text/plain": "2-element Vector{Int64}:\n 1\n 8"
     },
     "metadata": {},
     "execution_count": 4
    }
   ],
   "cell_type": "code",
   "source": [
    "apices(cube)"
   ],
   "metadata": {},
   "execution_count": 4
  },
  {
   "cell_type": "markdown",
   "source": [
    "This returns the two indices of the apices as they appear in the list of all (eight) vertices\n",
    "of `cube`. To list the vertices explicitly, do"
   ],
   "metadata": {}
  },
  {
   "outputs": [
    {
     "output_type": "execute_result",
     "data": {
      "text/plain": "8-element Vector{Vector{Rational{BigInt}}}:\n [-1, -1, -1]\n [1, -1, -1]\n [-1, 1, -1]\n [1, 1, -1]\n [-1, -1, 1]\n [1, -1, 1]\n [-1, 1, 1]\n [1, 1, 1]"
     },
     "metadata": {},
     "execution_count": 5
    }
   ],
   "cell_type": "code",
   "source": [
    "collect(vertices(cube))"
   ],
   "metadata": {},
   "execution_count": 5
  },
  {
   "cell_type": "markdown",
   "source": [
    "> **Note**\n",
    ">\n",
    "> By default, *Spindles.jl* uses exact rational arithmetic. Note that the components of each\n",
    "> vertex returned by `vertices` are of type `Rational` with numerators\n",
    "> and denominators of type `BigInt` to avoid integer overflows (see the Julia documentation pages on\n",
    "> [rational numbers](https://docs.julialang.org/en/v1/manual/complex-and-rational-numbers/#Rational-Numbers) and\n",
    "> [arbitrary-precision arithmetic](https://docs.julialang.org/en/v1/manual/integers-and-floating-point-numbers/#Arbitrary-Precision-Arithmetic))."
   ],
   "metadata": {}
  },
  {
   "cell_type": "markdown",
   "source": [
    "So the first and last vertex in the list above can take the role of the apices of `cube`.\n",
    "However, these two are not unique. In fact, for a cube there are many possible pairs of apices:\n",
    "Take an arbitrary vertex and its antipodal one, i.e., the vertex obtained by flipping the sign\n",
    "of each component. To prescribe an apex, pass its index as an additional argument\n",
    "to the function `apices`, which then tries to find a matching second apex:"
   ],
   "metadata": {}
  },
  {
   "outputs": [
    {
     "output_type": "execute_result",
     "data": {
      "text/plain": "2-element Vector{Int64}:\n 3\n 6"
     },
     "metadata": {},
     "execution_count": 6
    }
   ],
   "cell_type": "code",
   "source": [
    "apx = apices(cube, 3)"
   ],
   "metadata": {},
   "execution_count": 6
  },
  {
   "cell_type": "markdown",
   "source": [
    "## Working with the graph"
   ],
   "metadata": {}
  },
  {
   "cell_type": "markdown",
   "source": [
    "We may even compute the distance between those two apices in the graph of `cube`:"
   ],
   "metadata": {}
  },
  {
   "outputs": [
    {
     "output_type": "execute_result",
     "data": {
      "text/plain": "3"
     },
     "metadata": {},
     "execution_count": 7
    }
   ],
   "cell_type": "code",
   "source": [
    "dist(cube, apx...)"
   ],
   "metadata": {},
   "execution_count": 7
  },
  {
   "cell_type": "markdown",
   "source": [
    "Behind the scenes, the call to `dist` first computes the graph of `cube`.\n",
    "The graph can also be accessed directly using `graph`, which returns a graph\n",
    "of a type defined by the [Graphs.jl](https://github.com/JuliaGraphs/Graphs.jl) package.\n",
    "For instance, we may verify the well-known fact that cubes are simple by using the\n",
    "functions `dim` and [`Graphs.degree`](https://juliagraphs.org/Graphs.jl/stable/core_functions/core/#Graphs.degree):"
   ],
   "metadata": {}
  },
  {
   "outputs": [
    {
     "output_type": "execute_result",
     "data": {
      "text/plain": "true"
     },
     "metadata": {},
     "execution_count": 8
    }
   ],
   "cell_type": "code",
   "source": [
    "using Graphs: degree\n",
    "all(degree(graph(cube)) .== dim(cube))"
   ],
   "metadata": {},
   "execution_count": 8
  },
  {
   "cell_type": "markdown",
   "source": [
    "To make verifying this property more convenient, *Spindles.jl* provides the function\n",
    "`issimple` that checks a polytope for being simple:"
   ],
   "metadata": {}
  },
  {
   "outputs": [
    {
     "output_type": "execute_result",
     "data": {
      "text/plain": "true"
     },
     "metadata": {},
     "execution_count": 9
    }
   ],
   "cell_type": "code",
   "source": [
    "issimple(cube)"
   ],
   "metadata": {},
   "execution_count": 9
  },
  {
   "cell_type": "markdown",
   "source": [
    "## Counting and enumerating faces"
   ],
   "metadata": {}
  },
  {
   "cell_type": "markdown",
   "source": [
    "*Spindles.jl* also provides functions to count and enumerate the faces of `cube`. The following call to\n",
    "`facesofdim` returns all two-dimensional faces, each one given by the indices of its\n",
    "incident facets."
   ],
   "metadata": {}
  },
  {
   "cell_type": "markdown",
   "source": [
    "> **Note**\n",
    ">\n",
    "> Note here that facet indices refer to the corresponding rows of the coefficient matrix `A`."
   ],
   "metadata": {}
  },
  {
   "outputs": [
    {
     "output_type": "execute_result",
     "data": {
      "text/plain": "6-element Vector{Vector{Int64}}:\n [6]\n [4]\n [2]\n [1]\n [3]\n [5]"
     },
     "metadata": {},
     "execution_count": 10
    }
   ],
   "cell_type": "code",
   "source": [
    "collect(facesofdim(cube, 2))"
   ],
   "metadata": {},
   "execution_count": 10
  },
  {
   "cell_type": "markdown",
   "source": [
    "Given that the two-dimensional faces of a cube are precisely its six facets,\n",
    "this should not be too surprising."
   ],
   "metadata": {}
  },
  {
   "cell_type": "markdown",
   "source": [
    "To count the faces of a given dimension without explicitly producing a list,\n",
    "use the function `nfacesofdim`. For example, we may compute\n",
    "the [f-vector](https://en.wikipedia.org/wiki/Polyhedral_combinatorics#Faces_and_face-counting_vectors)\n",
    "of `cube` as follows."
   ],
   "metadata": {}
  },
  {
   "outputs": [
    {
     "output_type": "execute_result",
     "data": {
      "text/plain": "3-element Vector{Int64}:\n  8\n 12\n  6"
     },
     "metadata": {},
     "execution_count": 11
    }
   ],
   "cell_type": "code",
   "source": [
    "nfacesofdim.(cube, 0:(dim(cube)-1))"
   ],
   "metadata": {},
   "execution_count": 11
  },
  {
   "cell_type": "markdown",
   "source": [
    "This tells us that `cube` has 8 vertices, 12 edges, and 6 facets."
   ],
   "metadata": {}
  },
  {
   "cell_type": "markdown",
   "source": [
    "Next, let's list all vertices that are incident to the first facet."
   ],
   "metadata": {}
  },
  {
   "outputs": [
    {
     "name": "stdout",
     "output_type": "stream",
     "text": [
      "Rational{BigInt}[1, -1, -1]\n",
      "Rational{BigInt}[1, 1, -1]\n",
      "Rational{BigInt}[1, -1, 1]\n",
      "Rational{BigInt}[1, 1, 1]\n"
     ]
    }
   ],
   "cell_type": "code",
   "source": [
    "for v in incidentvertices(cube, [1])\n",
    "    println(collect(vertices(cube))[v])\n",
    "end"
   ],
   "metadata": {},
   "execution_count": 12
  },
  {
   "cell_type": "markdown",
   "source": [
    "As expected, we obtain precisely the four vertices whose first component is equal to one."
   ],
   "metadata": {}
  },
  {
   "cell_type": "markdown",
   "source": [
    "> **Note**\n",
    ">\n",
    "> `vertices`, like `facesofdim`, returns an iterator.\n",
    "> To access a specific element,\n",
    "> use [`collect`](https://docs.julialang.org/en/v1/base/collections/#Base.collect-Tuple{Any})\n",
    "> as in the code above."
   ],
   "metadata": {}
  },
  {
   "cell_type": "markdown",
   "source": [
    "---\n",
    "\n",
    "*This notebook was generated using [Literate.jl](https://github.com/fredrikekre/Literate.jl).*"
   ],
   "metadata": {}
  }
 ],
 "nbformat_minor": 3,
 "metadata": {
  "language_info": {
   "file_extension": ".jl",
   "mimetype": "application/julia",
   "name": "julia",
   "version": "1.11.5"
  },
  "kernelspec": {
   "name": "julia-1.11",
   "display_name": "Julia 1.11.5",
   "language": "julia"
  }
 },
 "nbformat": 4
}
