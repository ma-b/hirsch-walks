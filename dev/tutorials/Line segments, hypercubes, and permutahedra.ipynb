{
 "cells": [
  {
   "cell_type": "markdown",
   "source": [
    "# Line segments, hypercubes, and permutahedra"
   ],
   "metadata": {}
  },
  {
   "cell_type": "markdown",
   "source": [
    "In the first tutorial, we worked with a cube. Cubes can be characterized\n",
    "and constructed in many different ways. In this tutorial, we will build them (and more complicated\n",
    "polytopes) from simpler polytopes, namely *line segments*,\n",
    "only using basic polyhedral operations such as Cartesian products, Minkowski sums, and translations."
   ],
   "metadata": {}
  },
  {
   "cell_type": "markdown",
   "source": [
    "## Hypercubes"
   ],
   "metadata": {}
  },
  {
   "cell_type": "markdown",
   "source": [
    "Hypercubes are Cartesian products of line segments. For example, the 0/1 hypercube in $\\mathbb{R}^n$\n",
    "is the $n$-fold product of"
   ],
   "metadata": {}
  },
  {
   "outputs": [],
   "cell_type": "code",
   "source": [
    "using Spindles # hide\n",
    "l = Polytope([[0], [1]]);\n",
    "nothing # hide"
   ],
   "metadata": {},
   "execution_count": 1
  },
  {
   "cell_type": "markdown",
   "source": [
    "which is the line segment $[0,1]$ in dimension one.\n",
    "*Spindles.jl* implements the Cartesian product of two polytopes simply by overloading\n",
    "the multiplication operator `*`. Thus, the following code creates the 0/1 cube in 3D:"
   ],
   "metadata": {}
  },
  {
   "outputs": [
    {
     "output_type": "execute_result",
     "data": {
      "text/plain": "8-element Vector{Vector{Rational{BigInt}}}:\n [1, 1, 1]\n [1, 1, 0]\n [1, 0, 1]\n [1, 0, 0]\n [0, 1, 1]\n [0, 1, 0]\n [0, 0, 1]\n [0, 0, 0]"
     },
     "metadata": {},
     "execution_count": 2
    }
   ],
   "cell_type": "code",
   "source": [
    "collect(vertices(l * l * l))"
   ],
   "metadata": {},
   "execution_count": 2
  },
  {
   "cell_type": "markdown",
   "source": [
    "Using the Julia functions\n",
    "[`repeat`](https://docs.julialang.org/en/v1/base/arrays/#Base.repeat) and\n",
    "[`reduce`](https://docs.julialang.org/en/v1/base/collections/#Base.reduce-Tuple{Any,%20Any}),\n",
    "we may even create 0/1 hypercubes in any given dimension `n` very succinctly:"
   ],
   "metadata": {}
  },
  {
   "outputs": [
    {
     "output_type": "execute_result",
     "data": {
      "text/plain": "16-element Vector{Vector{Rational{BigInt}}}:\n [1, 1, 1, 1]\n [1, 1, 1, 0]\n [1, 1, 0, 1]\n [1, 1, 0, 0]\n [1, 0, 1, 1]\n [1, 0, 1, 0]\n [1, 0, 0, 1]\n [1, 0, 0, 0]\n [0, 1, 1, 1]\n [0, 1, 1, 0]\n [0, 1, 0, 1]\n [0, 1, 0, 0]\n [0, 0, 1, 1]\n [0, 0, 1, 0]\n [0, 0, 0, 1]\n [0, 0, 0, 0]"
     },
     "metadata": {},
     "execution_count": 3
    }
   ],
   "cell_type": "code",
   "source": [
    "n = 4\n",
    "p = reduce(*, repeat([l], n))\n",
    "collect(vertices(p))"
   ],
   "metadata": {},
   "execution_count": 3
  },
  {
   "cell_type": "markdown",
   "source": [
    "To make this even more convenient, *Spindles.jl* comes with in-built generators for common polytopes\n",
    "including hypercubes (see Generators for standard polytopes).\n",
    "The generator function `cube` creates a hypercube of given dimension,\n",
    "except that it is the *standard* hypercube with vertex coordinates\n",
    "in $\\{-1,1\\}$ and not the 0/1 hypercube that we created above.\n",
    "However, we may easily transform one into the other."
   ],
   "metadata": {}
  },
  {
   "outputs": [
    {
     "output_type": "execute_result",
     "data": {
      "text/plain": "true"
     },
     "metadata": {},
     "execution_count": 4
    }
   ],
   "cell_type": "code",
   "source": [
    "cube(n) == 2p - ones(n)"
   ],
   "metadata": {},
   "execution_count": 4
  },
  {
   "outputs": [
    {
     "output_type": "execute_result",
     "data": {
      "text/plain": "true"
     },
     "metadata": {},
     "execution_count": 5
    }
   ],
   "cell_type": "code",
   "source": [
    "p == 1//2 * (cube(n) + ones(Int, n))"
   ],
   "metadata": {},
   "execution_count": 5
  },
  {
   "cell_type": "markdown",
   "source": [
    "Note here that taking the sum of a polytope and a vector (like the all-ones vector created with\n",
    "[`ones`](https://docs.julialang.org/en/v1/base/arrays/#Base.ones))\n",
    "is interpreted as a translation of the polytope. Likewise, multiplying a polytope by a scalar rescales the entire polytope\n",
    "(see also Operators in the API documentation)."
   ],
   "metadata": {}
  },
  {
   "cell_type": "markdown",
   "source": [
    "> **Operations and types**\n",
    ">\n",
    "> Both translations and rescalations of polytopes produce a new `Polytope`.\n",
    "> Its element type, however, may be different from the initial one since it depends on\n",
    "> the element type of the translation vector (or the type of the scalar multiplier, respectively).\n",
    ">\n",
    "> For instance, `2p - ones(n)` in the first transformation above is of type `Polytope{BigFloat}`\n",
    "> while `p` was created as a `Polytope{Rational{BigInt}}`.\n",
    "> This is because `ones` by default creates a vector of `Float`s.\n",
    "> Compare this with the second transformation above, which preserves types."
   ],
   "metadata": {}
  },
  {
   "cell_type": "markdown",
   "source": [
    "Consider again the line segment `l` from which we built our hypercube.\n",
    "It is also a simplex (in dimension one), which can be created using the generator function\n",
    "`simplex`:"
   ],
   "metadata": {}
  },
  {
   "outputs": [
    {
     "output_type": "execute_result",
     "data": {
      "text/plain": "true"
     },
     "metadata": {},
     "execution_count": 6
    }
   ],
   "cell_type": "code",
   "source": [
    "simplex(1) == l"
   ],
   "metadata": {},
   "execution_count": 6
  },
  {
   "cell_type": "markdown",
   "source": [
    "The code snippet above now becomes"
   ],
   "metadata": {}
  },
  {
   "outputs": [
    {
     "output_type": "execute_result",
     "data": {
      "text/plain": "true"
     },
     "metadata": {},
     "execution_count": 7
    }
   ],
   "cell_type": "code",
   "source": [
    "p == reduce(*, repeat([simplex(1)], n))"
   ],
   "metadata": {},
   "execution_count": 7
  },
  {
   "cell_type": "markdown",
   "source": [
    "Next, let's look at another class of polytopes derived from line segments (or hypercubes)."
   ],
   "metadata": {}
  },
  {
   "cell_type": "markdown",
   "source": [
    "## Permutahedra"
   ],
   "metadata": {}
  },
  {
   "cell_type": "markdown",
   "source": [
    "For any natural number $n$, the *$n$-th permutahedron* is the polytope in $\\mathbb{R}^n$\n",
    "whose vertices are precisely the $n!$ permutations of the natural numbers from $1$ to $n$,\n",
    "written as vectors of length $n$."
   ],
   "metadata": {}
  },
  {
   "cell_type": "markdown",
   "source": [
    "To create a permutahedron, we could of course construct it explicitly from the list of its vertices.\n",
    "For the purpose of demonstration, we will follow a different approach and leverage some of the (many!)\n",
    "characterizations of permutahedra."
   ],
   "metadata": {}
  },
  {
   "cell_type": "markdown",
   "source": [
    "### Minkowski sums"
   ],
   "metadata": {}
  },
  {
   "cell_type": "markdown",
   "source": [
    "Our first characterization is in terms of line segments again.\n",
    "In fact, take a natural number $n$, say"
   ],
   "metadata": {}
  },
  {
   "outputs": [],
   "cell_type": "code",
   "source": [
    "n = 3;\n",
    "nothing # hide"
   ],
   "metadata": {},
   "execution_count": 8
  },
  {
   "cell_type": "markdown",
   "source": [
    "Then the Minkowski sum of the $n(n-1)/2$ line segments $[0, \\mathbf{e}_i - \\mathbf{e}_j]$\n",
    "for all pairs $i,j$ with $1 \\le i < j \\le n$ is a translate of the $n$-th permutahedron\n",
    "(where we use $\\mathbf{e}_i$ to denote the $i$-th standard basis vector). To verify this computationally,\n",
    "let's create the directions of all those line segments first."
   ],
   "metadata": {}
  },
  {
   "outputs": [
    {
     "output_type": "execute_result",
     "data": {
      "text/plain": "3-element Vector{Vector{Int64}}:\n [1, -1, 0]\n [1, 0, -1]\n [0, 1, -1]"
     },
     "metadata": {},
     "execution_count": 9
    }
   ],
   "cell_type": "code",
   "source": [
    "directions = [Int.(1:n .== i) - Int.(1:n .== j) for i=1:n for j=i+1:n]"
   ],
   "metadata": {},
   "execution_count": 9
  },
  {
   "cell_type": "markdown",
   "source": [
    "To get the permutahedron from this collection of vectors,\n",
    "we create each line segment as its own `Polytope`, take the Minkowski sum of all segments,\n",
    "and finally translate the resulting polytope by the vector $(1,2,\\dots,n)$.\n",
    "We may do all of this in a single line using the Julia function\n",
    "`sum`:"
   ],
   "metadata": {}
  },
  {
   "outputs": [
    {
     "output_type": "execute_result",
     "data": {
      "text/plain": "6-element Vector{Vector{Rational{BigInt}}}:\n [1, 2, 3]\n [1, 3, 2]\n [2, 3, 1]\n [2, 1, 3]\n [3, 1, 2]\n [3, 2, 1]"
     },
     "metadata": {},
     "execution_count": 10
    }
   ],
   "cell_type": "code",
   "source": [
    "p = collect(1:n) + sum(d -> Polytope([zeros(Int, n), d]), directions)\n",
    "collect(vertices(p))"
   ],
   "metadata": {},
   "execution_count": 10
  },
  {
   "cell_type": "markdown",
   "source": [
    "As desired, the vertices of the resulting polytope `p` are precisely the permutations of 1 to 3.\n",
    "Observe that the coordinates of each vertex of `p` sum up to 6, which implies that `p` cannot\n",
    "be full-dimensional:"
   ],
   "metadata": {}
  },
  {
   "outputs": [
    {
     "output_type": "execute_result",
     "data": {
      "text/plain": "2"
     },
     "metadata": {},
     "execution_count": 11
    }
   ],
   "cell_type": "code",
   "source": [
    "dim(p)"
   ],
   "metadata": {},
   "execution_count": 11
  },
  {
   "cell_type": "markdown",
   "source": [
    "Since the permutahedron for $n=3$ is 2-dimensional, we can even visualize it using\n",
    "[Plots.jl](https://github.com/JuliaPlots/Plots.jl).\n",
    "We label each vertex by the corresponding permutation."
   ],
   "metadata": {}
  },
  {
   "outputs": [
    {
     "output_type": "execute_result",
     "data": {
      "text/plain": "Plot{Plots.GRBackend() n=4}",
      "image/png": "[encoded data removed]",
      "text/html": [
       "<?xml version=\"1.0\" encoding=\"utf-8\"?>\n",
       "<svg xmlns=\"http://www.w3.org/2000/svg\" xmlns:xlink=\"http://www.w3.org/1999/xlink\" width=\"300\" height=\"300\" viewBox=\"0 0 1200 1200\">\n",
       "<defs>\n",
       "  <clipPath id=\"clip100\">\n",
       "    <rect x=\"0\" y=\"0\" width=\"1200\" height=\"1200\"/>\n",
       "  </clipPath>\n",
       "</defs>\n",
       "<path clip-path=\"url(#clip100)\" d=\"M0 1200 L1200 1200 L1200 0 L0 0  Z\" fill=\"#ffffff\" fill-rule=\"evenodd\" fill-opacity=\"1\"/>\n",
       "<defs>\n",
       "  <clipPath id=\"clip101\">\n",
       "    <rect x=\"240\" y=\"120\" width=\"841\" height=\"841\"/>\n",
       "  </clipPath>\n",
       "</defs>\n",
       "<path clip-path=\"url(#clip100)\" d=\"M134.272 1065.73 L1152.76 1065.73 L1152.76 47.2441 L134.272 47.2441  Z\" fill=\"#ffffff\" fill-rule=\"evenodd\" fill-opacity=\"1\"/>\n",
       "<defs>\n",
       "  <clipPath id=\"clip102\">\n",
       "    <rect x=\"134\" y=\"47\" width=\"1019\" height=\"1019\"/>\n",
       "  </clipPath>\n",
       "</defs>\n",
       "<polyline clip-path=\"url(#clip100)\" style=\"stroke:#000000; stroke-linecap:round; stroke-linejoin:round; stroke-width:4; stroke-opacity:1; fill:none\" points=\"134.272,1065.73 1152.76,1065.73 \"/>\n",
       "<polyline clip-path=\"url(#clip100)\" style=\"stroke:#000000; stroke-linecap:round; stroke-linejoin:round; stroke-width:4; stroke-opacity:1; fill:none\" points=\"134.272,47.2441 1152.76,47.2441 \"/>\n",
       "<path clip-path=\"url(#clip100)\" d=\"M647.779 1105.1 L634.888 1122.45 L648.447 1140.75 L641.541 1140.75 L631.165 1126.75 L620.788 1140.75 L613.882 1140.75 L627.727 1122.1 L615.059 1105.1 L621.966 1105.1 L631.419 1117.8 L640.872 1105.1 L647.779 1105.1 Z\" fill=\"#000000\" fill-rule=\"nonzero\" fill-opacity=\"1\" /><path clip-path=\"url(#clip100)\" d=\"M655.545 1137.25 L662.038 1137.25 L662.038 1117.8 L654.94 1119.11 L654.94 1115.42 L662.261 1114.18 L666.622 1114.18 L666.622 1137.25 L673.146 1137.25 L673.146 1140.75 L655.545 1140.75 L655.545 1137.25 Z\" fill=\"#000000\" fill-rule=\"nonzero\" fill-opacity=\"1\" /><polyline clip-path=\"url(#clip100)\" style=\"stroke:#000000; stroke-linecap:round; stroke-linejoin:round; stroke-width:4; stroke-opacity:1; fill:none\" points=\"134.272,1065.73 134.272,47.2441 \"/>\n",
       "<polyline clip-path=\"url(#clip100)\" style=\"stroke:#000000; stroke-linecap:round; stroke-linejoin:round; stroke-width:4; stroke-opacity:1; fill:none\" points=\"1152.76,1065.73 1152.76,47.2441 \"/>\n",
       "<path clip-path=\"url(#clip100)\" d=\"M48.3682 551.95 L65.7147 564.841 L84.0161 551.282 L84.0161 558.189 L70.0116 568.565 L84.0161 578.941 L84.0161 585.848 L65.3646 572.002 L48.3682 584.67 L48.3682 577.763 L61.0678 568.31 L48.3682 558.857 L48.3682 551.95 Z\" fill=\"#000000\" fill-rule=\"nonzero\" fill-opacity=\"1\" /><path clip-path=\"url(#clip100)\" d=\"M80.3877 540.619 L80.3877 527.124 L84.0161 527.124 L84.0161 546.158 L80.515 546.158 Q79.5283 545.075 77.7459 543.07 Q68.0382 532.121 65.0463 532.121 Q62.9456 532.121 61.6725 533.776 Q60.3675 535.431 60.3675 538.137 Q60.3675 539.792 60.9404 541.733 Q61.4815 543.675 62.5955 545.967 L58.6806 545.967 Q57.7894 543.516 57.3438 541.415 Q56.8982 539.283 56.8982 537.468 Q56.8982 532.853 58.9989 530.084 Q61.0996 527.315 64.5371 527.315 Q68.9612 527.315 78.0005 537.85 Q79.5283 539.633 80.3877 540.619 Z\" fill=\"#000000\" fill-rule=\"nonzero\" fill-opacity=\"1\" /><path clip-path=\"url(#clip102)\" d=\"M247.584 556.486 L247.584 160.556 L643.514 160.556 L1039.44 556.486 L1039.44 952.416 L643.514 952.416 L247.584 556.486  Z\" fill=\"#cae1ff\" fill-rule=\"evenodd\" fill-opacity=\"0.5\"/>\n",
       "<polyline clip-path=\"url(#clip102)\" style=\"stroke:#4682b4; stroke-linecap:round; stroke-linejoin:round; stroke-width:8; stroke-opacity:1; fill:none\" points=\"247.584,556.486 247.584,160.556 643.514,160.556 1039.44,556.486 1039.44,952.416 643.514,952.416 247.584,556.486 \"/>\n",
       "<circle clip-path=\"url(#clip102)\" cx=\"247.584\" cy=\"556.486\" r=\"18\" fill=\"#4682b4\" fill-rule=\"evenodd\" fill-opacity=\"1\" stroke=\"none\"/>\n",
       "<circle clip-path=\"url(#clip102)\" cx=\"247.584\" cy=\"160.556\" r=\"18\" fill=\"#4682b4\" fill-rule=\"evenodd\" fill-opacity=\"1\" stroke=\"none\"/>\n",
       "<circle clip-path=\"url(#clip102)\" cx=\"643.514\" cy=\"160.556\" r=\"18\" fill=\"#4682b4\" fill-rule=\"evenodd\" fill-opacity=\"1\" stroke=\"none\"/>\n",
       "<circle clip-path=\"url(#clip102)\" cx=\"1039.44\" cy=\"556.486\" r=\"18\" fill=\"#4682b4\" fill-rule=\"evenodd\" fill-opacity=\"1\" stroke=\"none\"/>\n",
       "<circle clip-path=\"url(#clip102)\" cx=\"1039.44\" cy=\"952.416\" r=\"18\" fill=\"#4682b4\" fill-rule=\"evenodd\" fill-opacity=\"1\" stroke=\"none\"/>\n",
       "<circle clip-path=\"url(#clip102)\" cx=\"643.514\" cy=\"952.416\" r=\"18\" fill=\"#4682b4\" fill-rule=\"evenodd\" fill-opacity=\"1\" stroke=\"none\"/>\n",
       "<circle clip-path=\"url(#clip102)\" cx=\"163.097\" cy=\"591.482\" r=\"14.4\" fill=\"#3da44d\" fill-rule=\"evenodd\" fill-opacity=\"0\" stroke=\"#000000\" stroke-opacity=\"0\" stroke-width=\"2.4\"/>\n",
       "<circle clip-path=\"url(#clip102)\" cx=\"198.093\" cy=\"111.065\" r=\"14.4\" fill=\"#3da44d\" fill-rule=\"evenodd\" fill-opacity=\"0\" stroke=\"#000000\" stroke-opacity=\"0\" stroke-width=\"2.4\"/>\n",
       "<circle clip-path=\"url(#clip102)\" cx=\"678.51\" cy=\"76.0691\" r=\"14.4\" fill=\"#3da44d\" fill-rule=\"evenodd\" fill-opacity=\"0\" stroke=\"#000000\" stroke-opacity=\"0\" stroke-width=\"2.4\"/>\n",
       "<circle clip-path=\"url(#clip102)\" cx=\"1123.93\" cy=\"521.49\" r=\"14.4\" fill=\"#3da44d\" fill-rule=\"evenodd\" fill-opacity=\"0\" stroke=\"#000000\" stroke-opacity=\"0\" stroke-width=\"2.4\"/>\n",
       "<circle clip-path=\"url(#clip102)\" cx=\"1088.94\" cy=\"1001.91\" r=\"14.4\" fill=\"#3da44d\" fill-rule=\"evenodd\" fill-opacity=\"0\" stroke=\"#000000\" stroke-opacity=\"0\" stroke-width=\"2.4\"/>\n",
       "<circle clip-path=\"url(#clip102)\" cx=\"608.518\" cy=\"1036.9\" r=\"14.4\" fill=\"#3da44d\" fill-rule=\"evenodd\" fill-opacity=\"0\" stroke=\"#000000\" stroke-opacity=\"0\" stroke-width=\"2.4\"/>\n",
       "<path clip-path=\"url(#clip100)\" d=\"M113.011 608.163 L122.559 608.163 L122.559 575.206 L112.171 577.289 L112.171 571.965 L122.501 569.882 L128.346 569.882 L128.346 608.163 L137.895 608.163 L137.895 613.082 L113.011 613.082 L113.011 608.163 Z\" fill=\"#000000\" fill-rule=\"nonzero\" fill-opacity=\"1\" /><path clip-path=\"url(#clip100)\" d=\"M154.735 608.163 L175.134 608.163 L175.134 613.082 L147.704 613.082 L147.704 608.163 Q151.031 604.719 156.76 598.932 Q162.518 593.116 163.994 591.438 Q166.801 588.284 167.9 586.114 Q169.029 583.915 169.029 581.803 Q169.029 578.36 166.598 576.189 Q164.197 574.019 160.319 574.019 Q157.571 574.019 154.503 574.974 Q151.465 575.929 147.993 577.868 L147.993 571.965 Q151.523 570.547 154.59 569.824 Q157.657 569.1 160.204 569.1 Q166.917 569.1 170.91 572.457 Q174.903 575.813 174.903 581.427 Q174.903 584.089 173.89 586.49 Q172.906 588.863 170.273 592.104 Q169.55 592.943 165.672 596.965 Q161.795 600.958 154.735 608.163 Z\" fill=\"#000000\" fill-rule=\"nonzero\" fill-opacity=\"1\" /><path clip-path=\"url(#clip100)\" d=\"M205.111 589.789 Q209.306 590.686 211.65 593.522 Q214.023 596.357 214.023 600.524 Q214.023 606.918 209.625 610.42 Q205.227 613.921 197.125 613.921 Q194.405 613.921 191.511 613.371 Q188.647 612.85 185.58 611.78 L185.58 606.137 Q188.01 607.555 190.904 608.278 Q193.797 609.002 196.951 609.002 Q202.449 609.002 205.313 606.832 Q208.207 604.661 208.207 600.524 Q208.207 596.704 205.516 594.563 Q202.854 592.393 198.08 592.393 L193.045 592.393 L193.045 587.59 L198.311 587.59 Q202.622 587.59 204.908 585.883 Q207.194 584.147 207.194 580.906 Q207.194 577.578 204.821 575.813 Q202.478 574.019 198.08 574.019 Q195.678 574.019 192.929 574.54 Q190.18 575.061 186.882 576.16 L186.882 570.952 Q190.209 570.026 193.103 569.563 Q196.025 569.1 198.6 569.1 Q205.255 569.1 209.133 572.139 Q213.01 575.148 213.01 580.298 Q213.01 583.886 210.956 586.375 Q208.901 588.834 205.111 589.789 Z\" fill=\"#000000\" fill-rule=\"nonzero\" fill-opacity=\"1\" /><path clip-path=\"url(#clip100)\" d=\"M148.599 127.746 L158.148 127.746 L158.148 94.7888 L147.76 96.8721 L147.76 91.548 L158.09 89.4647 L163.935 89.4647 L163.935 127.746 L173.483 127.746 L173.483 132.665 L148.599 132.665 L148.599 127.746 Z\" fill=\"#000000\" fill-rule=\"nonzero\" fill-opacity=\"1\" /><path clip-path=\"url(#clip100)\" d=\"M202.997 109.372 Q207.193 110.269 209.537 113.105 Q211.909 115.94 211.909 120.107 Q211.909 126.502 207.511 130.003 Q203.113 133.504 195.011 133.504 Q192.291 133.504 189.398 132.954 Q186.533 132.433 183.466 131.363 L183.466 125.72 Q185.897 127.138 188.79 127.861 Q191.684 128.585 194.838 128.585 Q200.335 128.585 203.2 126.415 Q206.093 124.245 206.093 120.107 Q206.093 116.287 203.402 114.146 Q200.74 111.976 195.966 111.976 L190.931 111.976 L190.931 107.173 L196.197 107.173 Q200.509 107.173 202.795 105.466 Q205.081 103.73 205.081 100.489 Q205.081 97.1614 202.708 95.3964 Q200.364 93.6024 195.966 93.6024 Q193.564 93.6024 190.816 94.1232 Q188.067 94.6441 184.768 95.7436 L184.768 90.5353 Q188.096 89.6094 190.989 89.1464 Q193.912 88.6835 196.487 88.6835 Q203.142 88.6835 207.019 91.7216 Q210.896 94.7309 210.896 99.8813 Q210.896 103.469 208.842 105.958 Q206.788 108.417 202.997 109.372 Z\" fill=\"#000000\" fill-rule=\"nonzero\" fill-opacity=\"1\" /><path clip-path=\"url(#clip100)\" d=\"M228.026 127.746 L248.425 127.746 L248.425 132.665 L220.995 132.665 L220.995 127.746 Q224.322 124.302 230.051 118.515 Q235.81 112.7 237.285 111.021 Q240.092 107.867 241.191 105.697 Q242.32 103.498 242.32 101.386 Q242.32 97.9427 239.889 95.7725 Q237.488 93.6024 233.61 93.6024 Q230.862 93.6024 227.795 94.5573 Q224.756 95.5121 221.284 97.4508 L221.284 91.548 Q224.814 90.1302 227.881 89.4068 Q230.948 88.6835 233.495 88.6835 Q240.208 88.6835 244.201 92.0399 Q248.194 95.3964 248.194 101.01 Q248.194 103.672 247.181 106.073 Q246.197 108.446 243.564 111.687 Q242.841 112.526 238.963 116.548 Q235.086 120.541 228.026 127.746 Z\" fill=\"#000000\" fill-rule=\"nonzero\" fill-opacity=\"1\" /><path clip-path=\"url(#clip100)\" d=\"M633.892 92.7502 L654.291 92.7502 L654.291 97.6691 L626.861 97.6691 L626.861 92.7502 Q630.188 89.3069 635.917 83.5199 Q641.675 77.7039 643.151 76.0257 Q645.958 72.8718 647.057 70.7017 Q648.186 68.5026 648.186 66.3903 Q648.186 62.9471 645.755 60.7769 Q643.354 58.6068 639.476 58.6068 Q636.727 58.6068 633.66 59.5617 Q630.622 60.5165 627.15 62.4552 L627.15 56.5524 Q630.68 55.1346 633.747 54.4112 Q636.814 53.6879 639.361 53.6879 Q646.073 53.6879 650.066 57.0443 Q654.06 60.4008 654.06 66.0142 Q654.06 68.6762 653.047 71.0778 Q652.063 73.4505 649.43 76.6912 Q648.707 77.5303 644.829 81.5523 Q640.952 85.5453 633.892 92.7502 Z\" fill=\"#000000\" fill-rule=\"nonzero\" fill-opacity=\"1\" /><path clip-path=\"url(#clip100)\" d=\"M684.268 74.3764 Q688.463 75.2734 690.807 78.109 Q693.18 80.9447 693.18 85.1113 Q693.18 91.5059 688.782 95.0071 Q684.383 98.5082 676.282 98.5082 Q673.562 98.5082 670.668 97.9585 Q667.804 97.4376 664.737 96.367 L664.737 90.7247 Q667.167 92.1425 670.061 92.8659 Q672.954 93.5893 676.108 93.5893 Q681.606 93.5893 684.47 91.4191 Q687.364 89.249 687.364 85.1113 Q687.364 81.2919 684.673 79.1507 Q682.011 76.9806 677.236 76.9806 L672.202 76.9806 L672.202 72.1773 L677.468 72.1773 Q681.779 72.1773 684.065 70.4702 Q686.351 68.7341 686.351 65.4934 Q686.351 62.1658 683.978 60.4008 Q681.635 58.6068 677.236 58.6068 Q674.835 58.6068 672.086 59.1276 Q669.337 59.6485 666.039 60.748 L666.039 55.5397 Q669.366 54.6138 672.26 54.1508 Q675.182 53.6879 677.757 53.6879 Q684.412 53.6879 688.29 56.726 Q692.167 59.7353 692.167 64.8857 Q692.167 68.4737 690.113 70.9621 Q688.058 73.4216 684.268 74.3764 Z\" fill=\"#000000\" fill-rule=\"nonzero\" fill-opacity=\"1\" /><path clip-path=\"url(#clip100)\" d=\"M705.275 92.7502 L714.823 92.7502 L714.823 59.7932 L704.435 61.8765 L704.435 56.5524 L714.765 54.4691 L720.61 54.4691 L720.61 92.7502 L730.159 92.7502 L730.159 97.6691 L705.275 97.6691 L705.275 92.7502 Z\" fill=\"#000000\" fill-rule=\"nonzero\" fill-opacity=\"1\" /><path clip-path=\"url(#clip100)\" d=\"M1091.9 519.798 Q1096.1 520.695 1098.44 523.53 Q1100.81 526.366 1100.81 530.533 Q1100.81 536.927 1096.41 540.428 Q1092.02 543.929 1083.91 543.929 Q1081.19 543.929 1078.3 543.38 Q1075.44 542.859 1072.37 541.788 L1072.37 536.146 Q1074.8 537.564 1077.69 538.287 Q1080.59 539.011 1083.74 539.011 Q1089.24 539.011 1092.1 536.84 Q1095 534.67 1095 530.533 Q1095 526.713 1092.3 524.572 Q1089.64 522.402 1084.87 522.402 L1079.83 522.402 L1079.83 517.599 L1085.1 517.599 Q1089.41 517.599 1091.7 515.891 Q1093.98 514.155 1093.98 510.915 Q1093.98 507.587 1091.61 505.822 Q1089.27 504.028 1084.87 504.028 Q1082.47 504.028 1079.72 504.549 Q1076.97 505.07 1073.67 506.169 L1073.67 500.961 Q1077 500.035 1079.89 499.572 Q1082.81 499.109 1085.39 499.109 Q1092.04 499.109 1095.92 502.147 Q1099.8 505.157 1099.8 510.307 Q1099.8 513.895 1097.74 516.383 Q1095.69 518.843 1091.9 519.798 Z\" fill=\"#000000\" fill-rule=\"nonzero\" fill-opacity=\"1\" /><path clip-path=\"url(#clip100)\" d=\"M1116.93 538.171 L1137.33 538.171 L1137.33 543.09 L1109.9 543.09 L1109.9 538.171 Q1113.22 534.728 1118.95 528.941 Q1124.71 523.125 1126.19 521.447 Q1128.99 518.293 1130.09 516.123 Q1131.22 513.924 1131.22 511.812 Q1131.22 508.368 1128.79 506.198 Q1126.39 504.028 1122.51 504.028 Q1119.76 504.028 1116.7 504.983 Q1113.66 505.938 1110.19 507.876 L1110.19 501.974 Q1113.72 500.556 1116.78 499.833 Q1119.85 499.109 1122.4 499.109 Q1129.11 499.109 1133.1 502.466 Q1137.1 505.822 1137.1 511.435 Q1137.1 514.097 1136.08 516.499 Q1135.1 518.872 1132.47 522.112 Q1131.74 522.952 1127.87 526.974 Q1123.99 530.967 1116.93 538.171 Z\" fill=\"#000000\" fill-rule=\"nonzero\" fill-opacity=\"1\" /><path clip-path=\"url(#clip100)\" d=\"M1150.61 538.171 L1160.16 538.171 L1160.16 505.214 L1149.77 507.298 L1149.77 501.974 L1160.1 499.89 L1165.94 499.89 L1165.94 538.171 L1175.49 538.171 L1175.49 543.09 L1150.61 543.09 L1150.61 538.171 Z\" fill=\"#000000\" fill-rule=\"nonzero\" fill-opacity=\"1\" /><path clip-path=\"url(#clip100)\" d=\"M1057.14 1000.21 Q1061.33 1001.11 1063.68 1003.95 Q1066.05 1006.78 1066.05 1010.95 Q1066.05 1017.34 1061.65 1020.85 Q1057.25 1024.35 1049.15 1024.35 Q1046.43 1024.35 1043.54 1023.8 Q1040.67 1023.28 1037.6 1022.21 L1037.6 1016.56 Q1040.04 1017.98 1042.93 1018.7 Q1045.82 1019.43 1048.98 1019.43 Q1054.47 1019.43 1057.34 1017.26 Q1060.23 1015.09 1060.23 1010.95 Q1060.23 1007.13 1057.54 1004.99 Q1054.88 1002.82 1050.1 1002.82 L1045.07 1002.82 L1045.07 998.015 L1050.34 998.015 Q1054.65 998.015 1056.93 996.308 Q1059.22 994.572 1059.22 991.332 Q1059.22 988.004 1056.85 986.239 Q1054.5 984.445 1050.1 984.445 Q1047.7 984.445 1044.95 984.966 Q1042.21 985.487 1038.91 986.586 L1038.91 981.378 Q1042.23 980.452 1045.13 979.989 Q1048.05 979.526 1050.63 979.526 Q1057.28 979.526 1061.16 982.564 Q1065.03 985.573 1065.03 990.724 Q1065.03 994.312 1062.98 996.8 Q1060.93 999.26 1057.14 1000.21 Z\" fill=\"#000000\" fill-rule=\"nonzero\" fill-opacity=\"1\" /><path clip-path=\"url(#clip100)\" d=\"M1078.14 1018.59 L1087.69 1018.59 L1087.69 985.631 L1077.3 987.715 L1077.3 982.391 L1087.63 980.307 L1093.48 980.307 L1093.48 1018.59 L1103.03 1018.59 L1103.03 1023.51 L1078.14 1023.51 L1078.14 1018.59 Z\" fill=\"#000000\" fill-rule=\"nonzero\" fill-opacity=\"1\" /><path clip-path=\"url(#clip100)\" d=\"M1119.87 1018.59 L1140.27 1018.59 L1140.27 1023.51 L1112.84 1023.51 L1112.84 1018.59 Q1116.16 1015.15 1121.89 1009.36 Q1127.65 1003.54 1129.13 1001.86 Q1131.93 998.71 1133.03 996.54 Q1134.16 994.341 1134.16 992.228 Q1134.16 988.785 1131.73 986.615 Q1129.33 984.445 1125.45 984.445 Q1122.7 984.445 1119.64 985.4 Q1116.6 986.355 1113.12 988.293 L1113.12 982.391 Q1116.66 980.973 1119.72 980.249 Q1122.79 979.526 1125.34 979.526 Q1132.05 979.526 1136.04 982.882 Q1140.03 986.239 1140.03 991.852 Q1140.03 994.514 1139.02 996.916 Q1138.04 999.289 1135.4 1002.53 Q1134.68 1003.37 1130.8 1007.39 Q1126.93 1011.38 1119.87 1018.59 Z\" fill=\"#000000\" fill-rule=\"nonzero\" fill-opacity=\"1\" /><path clip-path=\"url(#clip100)\" d=\"M563.539 1053.58 L583.938 1053.58 L583.938 1058.5 L556.508 1058.5 L556.508 1053.58 Q559.835 1050.14 565.564 1044.35 Q571.322 1038.54 572.798 1036.86 Q575.605 1033.71 576.704 1031.54 Q577.833 1029.34 577.833 1027.22 Q577.833 1023.78 575.402 1021.61 Q573.001 1019.44 569.123 1019.44 Q566.375 1019.44 563.307 1020.4 Q560.269 1021.35 556.797 1023.29 L556.797 1017.39 Q560.327 1015.97 563.394 1015.24 Q566.461 1014.52 569.008 1014.52 Q575.721 1014.52 579.714 1017.88 Q583.707 1021.23 583.707 1026.85 Q583.707 1029.51 582.694 1031.91 Q581.71 1034.28 579.077 1037.52 Q578.354 1038.36 574.476 1042.39 Q570.599 1046.38 563.539 1053.58 Z\" fill=\"#000000\" fill-rule=\"nonzero\" fill-opacity=\"1\" /><path clip-path=\"url(#clip100)\" d=\"M597.219 1053.58 L606.768 1053.58 L606.768 1020.63 L596.38 1022.71 L596.38 1017.39 L606.71 1015.3 L612.555 1015.3 L612.555 1053.58 L622.103 1053.58 L622.103 1058.5 L597.219 1058.5 L597.219 1053.58 Z\" fill=\"#000000\" fill-rule=\"nonzero\" fill-opacity=\"1\" /><path clip-path=\"url(#clip100)\" d=\"M651.617 1035.21 Q655.813 1036.11 658.156 1038.94 Q660.529 1041.78 660.529 1045.95 Q660.529 1052.34 656.131 1055.84 Q651.733 1059.34 643.631 1059.34 Q640.911 1059.34 638.018 1058.79 Q635.153 1058.27 632.086 1057.2 L632.086 1051.56 Q634.517 1052.98 637.41 1053.7 Q640.304 1054.42 643.457 1054.42 Q648.955 1054.42 651.82 1052.25 Q654.713 1050.08 654.713 1045.95 Q654.713 1042.13 652.022 1039.98 Q649.36 1037.81 644.586 1037.81 L639.551 1037.81 L639.551 1033.01 L644.817 1033.01 Q649.129 1033.01 651.415 1031.3 Q653.7 1029.57 653.7 1026.33 Q653.7 1023 651.328 1021.23 Q648.984 1019.44 644.586 1019.44 Q642.184 1019.44 639.435 1019.96 Q636.687 1020.48 633.388 1021.58 L633.388 1016.37 Q636.716 1015.45 639.609 1014.98 Q642.532 1014.52 645.107 1014.52 Q651.762 1014.52 655.639 1017.56 Q659.516 1020.57 659.516 1025.72 Q659.516 1029.31 657.462 1031.8 Q655.408 1034.26 651.617 1035.21 Z\" fill=\"#000000\" fill-rule=\"nonzero\" fill-opacity=\"1\" /></svg>\n"
      ],
      "image/svg+xml": [
       "<?xml version=\"1.0\" encoding=\"utf-8\"?>\n",
       "<svg xmlns=\"http://www.w3.org/2000/svg\" xmlns:xlink=\"http://www.w3.org/1999/xlink\" width=\"300\" height=\"300\" viewBox=\"0 0 1200 1200\">\n",
       "<defs>\n",
       "  <clipPath id=\"clip070\">\n",
       "    <rect x=\"0\" y=\"0\" width=\"1200\" height=\"1200\"/>\n",
       "  </clipPath>\n",
       "</defs>\n",
       "<path clip-path=\"url(#clip070)\" d=\"M0 1200 L1200 1200 L1200 0 L0 0  Z\" fill=\"#ffffff\" fill-rule=\"evenodd\" fill-opacity=\"1\"/>\n",
       "<defs>\n",
       "  <clipPath id=\"clip071\">\n",
       "    <rect x=\"240\" y=\"120\" width=\"841\" height=\"841\"/>\n",
       "  </clipPath>\n",
       "</defs>\n",
       "<path clip-path=\"url(#clip070)\" d=\"M134.272 1065.73 L1152.76 1065.73 L1152.76 47.2441 L134.272 47.2441  Z\" fill=\"#ffffff\" fill-rule=\"evenodd\" fill-opacity=\"1\"/>\n",
       "<defs>\n",
       "  <clipPath id=\"clip072\">\n",
       "    <rect x=\"134\" y=\"47\" width=\"1019\" height=\"1019\"/>\n",
       "  </clipPath>\n",
       "</defs>\n",
       "<polyline clip-path=\"url(#clip070)\" style=\"stroke:#000000; stroke-linecap:round; stroke-linejoin:round; stroke-width:4; stroke-opacity:1; fill:none\" points=\"134.272,1065.73 1152.76,1065.73 \"/>\n",
       "<polyline clip-path=\"url(#clip070)\" style=\"stroke:#000000; stroke-linecap:round; stroke-linejoin:round; stroke-width:4; stroke-opacity:1; fill:none\" points=\"134.272,47.2441 1152.76,47.2441 \"/>\n",
       "<path clip-path=\"url(#clip070)\" d=\"M647.779 1105.1 L634.888 1122.45 L648.447 1140.75 L641.541 1140.75 L631.165 1126.75 L620.788 1140.75 L613.882 1140.75 L627.727 1122.1 L615.059 1105.1 L621.966 1105.1 L631.419 1117.8 L640.872 1105.1 L647.779 1105.1 Z\" fill=\"#000000\" fill-rule=\"nonzero\" fill-opacity=\"1\" /><path clip-path=\"url(#clip070)\" d=\"M655.545 1137.25 L662.038 1137.25 L662.038 1117.8 L654.94 1119.11 L654.94 1115.42 L662.261 1114.18 L666.622 1114.18 L666.622 1137.25 L673.146 1137.25 L673.146 1140.75 L655.545 1140.75 L655.545 1137.25 Z\" fill=\"#000000\" fill-rule=\"nonzero\" fill-opacity=\"1\" /><polyline clip-path=\"url(#clip070)\" style=\"stroke:#000000; stroke-linecap:round; stroke-linejoin:round; stroke-width:4; stroke-opacity:1; fill:none\" points=\"134.272,1065.73 134.272,47.2441 \"/>\n",
       "<polyline clip-path=\"url(#clip070)\" style=\"stroke:#000000; stroke-linecap:round; stroke-linejoin:round; stroke-width:4; stroke-opacity:1; fill:none\" points=\"1152.76,1065.73 1152.76,47.2441 \"/>\n",
       "<path clip-path=\"url(#clip070)\" d=\"M48.3682 551.95 L65.7147 564.841 L84.0161 551.282 L84.0161 558.189 L70.0116 568.565 L84.0161 578.941 L84.0161 585.848 L65.3646 572.002 L48.3682 584.67 L48.3682 577.763 L61.0678 568.31 L48.3682 558.857 L48.3682 551.95 Z\" fill=\"#000000\" fill-rule=\"nonzero\" fill-opacity=\"1\" /><path clip-path=\"url(#clip070)\" d=\"M80.3877 540.619 L80.3877 527.124 L84.0161 527.124 L84.0161 546.158 L80.515 546.158 Q79.5283 545.075 77.7459 543.07 Q68.0382 532.121 65.0463 532.121 Q62.9456 532.121 61.6725 533.776 Q60.3675 535.431 60.3675 538.137 Q60.3675 539.792 60.9404 541.733 Q61.4815 543.675 62.5955 545.967 L58.6806 545.967 Q57.7894 543.516 57.3438 541.415 Q56.8982 539.283 56.8982 537.468 Q56.8982 532.853 58.9989 530.084 Q61.0996 527.315 64.5371 527.315 Q68.9612 527.315 78.0005 537.85 Q79.5283 539.633 80.3877 540.619 Z\" fill=\"#000000\" fill-rule=\"nonzero\" fill-opacity=\"1\" /><path clip-path=\"url(#clip072)\" d=\"M247.584 556.486 L247.584 160.556 L643.514 160.556 L1039.44 556.486 L1039.44 952.416 L643.514 952.416 L247.584 556.486  Z\" fill=\"#cae1ff\" fill-rule=\"evenodd\" fill-opacity=\"0.5\"/>\n",
       "<polyline clip-path=\"url(#clip072)\" style=\"stroke:#4682b4; stroke-linecap:round; stroke-linejoin:round; stroke-width:8; stroke-opacity:1; fill:none\" points=\"247.584,556.486 247.584,160.556 643.514,160.556 1039.44,556.486 1039.44,952.416 643.514,952.416 247.584,556.486 \"/>\n",
       "<circle clip-path=\"url(#clip072)\" cx=\"247.584\" cy=\"556.486\" r=\"18\" fill=\"#4682b4\" fill-rule=\"evenodd\" fill-opacity=\"1\" stroke=\"none\"/>\n",
       "<circle clip-path=\"url(#clip072)\" cx=\"247.584\" cy=\"160.556\" r=\"18\" fill=\"#4682b4\" fill-rule=\"evenodd\" fill-opacity=\"1\" stroke=\"none\"/>\n",
       "<circle clip-path=\"url(#clip072)\" cx=\"643.514\" cy=\"160.556\" r=\"18\" fill=\"#4682b4\" fill-rule=\"evenodd\" fill-opacity=\"1\" stroke=\"none\"/>\n",
       "<circle clip-path=\"url(#clip072)\" cx=\"1039.44\" cy=\"556.486\" r=\"18\" fill=\"#4682b4\" fill-rule=\"evenodd\" fill-opacity=\"1\" stroke=\"none\"/>\n",
       "<circle clip-path=\"url(#clip072)\" cx=\"1039.44\" cy=\"952.416\" r=\"18\" fill=\"#4682b4\" fill-rule=\"evenodd\" fill-opacity=\"1\" stroke=\"none\"/>\n",
       "<circle clip-path=\"url(#clip072)\" cx=\"643.514\" cy=\"952.416\" r=\"18\" fill=\"#4682b4\" fill-rule=\"evenodd\" fill-opacity=\"1\" stroke=\"none\"/>\n",
       "<circle clip-path=\"url(#clip072)\" cx=\"163.097\" cy=\"591.482\" r=\"14.4\" fill=\"#3da44d\" fill-rule=\"evenodd\" fill-opacity=\"0\" stroke=\"#000000\" stroke-opacity=\"0\" stroke-width=\"2.4\"/>\n",
       "<circle clip-path=\"url(#clip072)\" cx=\"198.093\" cy=\"111.065\" r=\"14.4\" fill=\"#3da44d\" fill-rule=\"evenodd\" fill-opacity=\"0\" stroke=\"#000000\" stroke-opacity=\"0\" stroke-width=\"2.4\"/>\n",
       "<circle clip-path=\"url(#clip072)\" cx=\"678.51\" cy=\"76.0691\" r=\"14.4\" fill=\"#3da44d\" fill-rule=\"evenodd\" fill-opacity=\"0\" stroke=\"#000000\" stroke-opacity=\"0\" stroke-width=\"2.4\"/>\n",
       "<circle clip-path=\"url(#clip072)\" cx=\"1123.93\" cy=\"521.49\" r=\"14.4\" fill=\"#3da44d\" fill-rule=\"evenodd\" fill-opacity=\"0\" stroke=\"#000000\" stroke-opacity=\"0\" stroke-width=\"2.4\"/>\n",
       "<circle clip-path=\"url(#clip072)\" cx=\"1088.94\" cy=\"1001.91\" r=\"14.4\" fill=\"#3da44d\" fill-rule=\"evenodd\" fill-opacity=\"0\" stroke=\"#000000\" stroke-opacity=\"0\" stroke-width=\"2.4\"/>\n",
       "<circle clip-path=\"url(#clip072)\" cx=\"608.518\" cy=\"1036.9\" r=\"14.4\" fill=\"#3da44d\" fill-rule=\"evenodd\" fill-opacity=\"0\" stroke=\"#000000\" stroke-opacity=\"0\" stroke-width=\"2.4\"/>\n",
       "<path clip-path=\"url(#clip070)\" d=\"M113.011 608.163 L122.559 608.163 L122.559 575.206 L112.171 577.289 L112.171 571.965 L122.501 569.882 L128.346 569.882 L128.346 608.163 L137.895 608.163 L137.895 613.082 L113.011 613.082 L113.011 608.163 Z\" fill=\"#000000\" fill-rule=\"nonzero\" fill-opacity=\"1\" /><path clip-path=\"url(#clip070)\" d=\"M154.735 608.163 L175.134 608.163 L175.134 613.082 L147.704 613.082 L147.704 608.163 Q151.031 604.719 156.76 598.932 Q162.518 593.116 163.994 591.438 Q166.801 588.284 167.9 586.114 Q169.029 583.915 169.029 581.803 Q169.029 578.36 166.598 576.189 Q164.197 574.019 160.319 574.019 Q157.571 574.019 154.503 574.974 Q151.465 575.929 147.993 577.868 L147.993 571.965 Q151.523 570.547 154.59 569.824 Q157.657 569.1 160.204 569.1 Q166.917 569.1 170.91 572.457 Q174.903 575.813 174.903 581.427 Q174.903 584.089 173.89 586.49 Q172.906 588.863 170.273 592.104 Q169.55 592.943 165.672 596.965 Q161.795 600.958 154.735 608.163 Z\" fill=\"#000000\" fill-rule=\"nonzero\" fill-opacity=\"1\" /><path clip-path=\"url(#clip070)\" d=\"M205.111 589.789 Q209.306 590.686 211.65 593.522 Q214.023 596.357 214.023 600.524 Q214.023 606.918 209.625 610.42 Q205.227 613.921 197.125 613.921 Q194.405 613.921 191.511 613.371 Q188.647 612.85 185.58 611.78 L185.58 606.137 Q188.01 607.555 190.904 608.278 Q193.797 609.002 196.951 609.002 Q202.449 609.002 205.313 606.832 Q208.207 604.661 208.207 600.524 Q208.207 596.704 205.516 594.563 Q202.854 592.393 198.08 592.393 L193.045 592.393 L193.045 587.59 L198.311 587.59 Q202.622 587.59 204.908 585.883 Q207.194 584.147 207.194 580.906 Q207.194 577.578 204.821 575.813 Q202.478 574.019 198.08 574.019 Q195.678 574.019 192.929 574.54 Q190.18 575.061 186.882 576.16 L186.882 570.952 Q190.209 570.026 193.103 569.563 Q196.025 569.1 198.6 569.1 Q205.255 569.1 209.133 572.139 Q213.01 575.148 213.01 580.298 Q213.01 583.886 210.956 586.375 Q208.901 588.834 205.111 589.789 Z\" fill=\"#000000\" fill-rule=\"nonzero\" fill-opacity=\"1\" /><path clip-path=\"url(#clip070)\" d=\"M148.599 127.746 L158.148 127.746 L158.148 94.7888 L147.76 96.8721 L147.76 91.548 L158.09 89.4647 L163.935 89.4647 L163.935 127.746 L173.483 127.746 L173.483 132.665 L148.599 132.665 L148.599 127.746 Z\" fill=\"#000000\" fill-rule=\"nonzero\" fill-opacity=\"1\" /><path clip-path=\"url(#clip070)\" d=\"M202.997 109.372 Q207.193 110.269 209.537 113.105 Q211.909 115.94 211.909 120.107 Q211.909 126.502 207.511 130.003 Q203.113 133.504 195.011 133.504 Q192.291 133.504 189.398 132.954 Q186.533 132.433 183.466 131.363 L183.466 125.72 Q185.897 127.138 188.79 127.861 Q191.684 128.585 194.838 128.585 Q200.335 128.585 203.2 126.415 Q206.093 124.245 206.093 120.107 Q206.093 116.287 203.402 114.146 Q200.74 111.976 195.966 111.976 L190.931 111.976 L190.931 107.173 L196.197 107.173 Q200.509 107.173 202.795 105.466 Q205.081 103.73 205.081 100.489 Q205.081 97.1614 202.708 95.3964 Q200.364 93.6024 195.966 93.6024 Q193.564 93.6024 190.816 94.1232 Q188.067 94.6441 184.768 95.7436 L184.768 90.5353 Q188.096 89.6094 190.989 89.1464 Q193.912 88.6835 196.487 88.6835 Q203.142 88.6835 207.019 91.7216 Q210.896 94.7309 210.896 99.8813 Q210.896 103.469 208.842 105.958 Q206.788 108.417 202.997 109.372 Z\" fill=\"#000000\" fill-rule=\"nonzero\" fill-opacity=\"1\" /><path clip-path=\"url(#clip070)\" d=\"M228.026 127.746 L248.425 127.746 L248.425 132.665 L220.995 132.665 L220.995 127.746 Q224.322 124.302 230.051 118.515 Q235.81 112.7 237.285 111.021 Q240.092 107.867 241.191 105.697 Q242.32 103.498 242.32 101.386 Q242.32 97.9427 239.889 95.7725 Q237.488 93.6024 233.61 93.6024 Q230.862 93.6024 227.795 94.5573 Q224.756 95.5121 221.284 97.4508 L221.284 91.548 Q224.814 90.1302 227.881 89.4068 Q230.948 88.6835 233.495 88.6835 Q240.208 88.6835 244.201 92.0399 Q248.194 95.3964 248.194 101.01 Q248.194 103.672 247.181 106.073 Q246.197 108.446 243.564 111.687 Q242.841 112.526 238.963 116.548 Q235.086 120.541 228.026 127.746 Z\" fill=\"#000000\" fill-rule=\"nonzero\" fill-opacity=\"1\" /><path clip-path=\"url(#clip070)\" d=\"M633.892 92.7502 L654.291 92.7502 L654.291 97.6691 L626.861 97.6691 L626.861 92.7502 Q630.188 89.3069 635.917 83.5199 Q641.675 77.7039 643.151 76.0257 Q645.958 72.8718 647.057 70.7017 Q648.186 68.5026 648.186 66.3903 Q648.186 62.9471 645.755 60.7769 Q643.354 58.6068 639.476 58.6068 Q636.727 58.6068 633.66 59.5617 Q630.622 60.5165 627.15 62.4552 L627.15 56.5524 Q630.68 55.1346 633.747 54.4112 Q636.814 53.6879 639.361 53.6879 Q646.073 53.6879 650.066 57.0443 Q654.06 60.4008 654.06 66.0142 Q654.06 68.6762 653.047 71.0778 Q652.063 73.4505 649.43 76.6912 Q648.707 77.5303 644.829 81.5523 Q640.952 85.5453 633.892 92.7502 Z\" fill=\"#000000\" fill-rule=\"nonzero\" fill-opacity=\"1\" /><path clip-path=\"url(#clip070)\" d=\"M684.268 74.3764 Q688.463 75.2734 690.807 78.109 Q693.18 80.9447 693.18 85.1113 Q693.18 91.5059 688.782 95.0071 Q684.383 98.5082 676.282 98.5082 Q673.562 98.5082 670.668 97.9585 Q667.804 97.4376 664.737 96.367 L664.737 90.7247 Q667.167 92.1425 670.061 92.8659 Q672.954 93.5893 676.108 93.5893 Q681.606 93.5893 684.47 91.4191 Q687.364 89.249 687.364 85.1113 Q687.364 81.2919 684.673 79.1507 Q682.011 76.9806 677.236 76.9806 L672.202 76.9806 L672.202 72.1773 L677.468 72.1773 Q681.779 72.1773 684.065 70.4702 Q686.351 68.7341 686.351 65.4934 Q686.351 62.1658 683.978 60.4008 Q681.635 58.6068 677.236 58.6068 Q674.835 58.6068 672.086 59.1276 Q669.337 59.6485 666.039 60.748 L666.039 55.5397 Q669.366 54.6138 672.26 54.1508 Q675.182 53.6879 677.757 53.6879 Q684.412 53.6879 688.29 56.726 Q692.167 59.7353 692.167 64.8857 Q692.167 68.4737 690.113 70.9621 Q688.058 73.4216 684.268 74.3764 Z\" fill=\"#000000\" fill-rule=\"nonzero\" fill-opacity=\"1\" /><path clip-path=\"url(#clip070)\" d=\"M705.275 92.7502 L714.823 92.7502 L714.823 59.7932 L704.435 61.8765 L704.435 56.5524 L714.765 54.4691 L720.61 54.4691 L720.61 92.7502 L730.159 92.7502 L730.159 97.6691 L705.275 97.6691 L705.275 92.7502 Z\" fill=\"#000000\" fill-rule=\"nonzero\" fill-opacity=\"1\" /><path clip-path=\"url(#clip070)\" d=\"M1091.9 519.798 Q1096.1 520.695 1098.44 523.53 Q1100.81 526.366 1100.81 530.533 Q1100.81 536.927 1096.41 540.428 Q1092.02 543.929 1083.91 543.929 Q1081.19 543.929 1078.3 543.38 Q1075.44 542.859 1072.37 541.788 L1072.37 536.146 Q1074.8 537.564 1077.69 538.287 Q1080.59 539.011 1083.74 539.011 Q1089.24 539.011 1092.1 536.84 Q1095 534.67 1095 530.533 Q1095 526.713 1092.3 524.572 Q1089.64 522.402 1084.87 522.402 L1079.83 522.402 L1079.83 517.599 L1085.1 517.599 Q1089.41 517.599 1091.7 515.891 Q1093.98 514.155 1093.98 510.915 Q1093.98 507.587 1091.61 505.822 Q1089.27 504.028 1084.87 504.028 Q1082.47 504.028 1079.72 504.549 Q1076.97 505.07 1073.67 506.169 L1073.67 500.961 Q1077 500.035 1079.89 499.572 Q1082.81 499.109 1085.39 499.109 Q1092.04 499.109 1095.92 502.147 Q1099.8 505.157 1099.8 510.307 Q1099.8 513.895 1097.74 516.383 Q1095.69 518.843 1091.9 519.798 Z\" fill=\"#000000\" fill-rule=\"nonzero\" fill-opacity=\"1\" /><path clip-path=\"url(#clip070)\" d=\"M1116.93 538.171 L1137.33 538.171 L1137.33 543.09 L1109.9 543.09 L1109.9 538.171 Q1113.22 534.728 1118.95 528.941 Q1124.71 523.125 1126.19 521.447 Q1128.99 518.293 1130.09 516.123 Q1131.22 513.924 1131.22 511.812 Q1131.22 508.368 1128.79 506.198 Q1126.39 504.028 1122.51 504.028 Q1119.76 504.028 1116.7 504.983 Q1113.66 505.938 1110.19 507.876 L1110.19 501.974 Q1113.72 500.556 1116.78 499.833 Q1119.85 499.109 1122.4 499.109 Q1129.11 499.109 1133.1 502.466 Q1137.1 505.822 1137.1 511.435 Q1137.1 514.097 1136.08 516.499 Q1135.1 518.872 1132.47 522.112 Q1131.74 522.952 1127.87 526.974 Q1123.99 530.967 1116.93 538.171 Z\" fill=\"#000000\" fill-rule=\"nonzero\" fill-opacity=\"1\" /><path clip-path=\"url(#clip070)\" d=\"M1150.61 538.171 L1160.16 538.171 L1160.16 505.214 L1149.77 507.298 L1149.77 501.974 L1160.1 499.89 L1165.94 499.89 L1165.94 538.171 L1175.49 538.171 L1175.49 543.09 L1150.61 543.09 L1150.61 538.171 Z\" fill=\"#000000\" fill-rule=\"nonzero\" fill-opacity=\"1\" /><path clip-path=\"url(#clip070)\" d=\"M1057.14 1000.21 Q1061.33 1001.11 1063.68 1003.95 Q1066.05 1006.78 1066.05 1010.95 Q1066.05 1017.34 1061.65 1020.85 Q1057.25 1024.35 1049.15 1024.35 Q1046.43 1024.35 1043.54 1023.8 Q1040.67 1023.28 1037.6 1022.21 L1037.6 1016.56 Q1040.04 1017.98 1042.93 1018.7 Q1045.82 1019.43 1048.98 1019.43 Q1054.47 1019.43 1057.34 1017.26 Q1060.23 1015.09 1060.23 1010.95 Q1060.23 1007.13 1057.54 1004.99 Q1054.88 1002.82 1050.1 1002.82 L1045.07 1002.82 L1045.07 998.015 L1050.34 998.015 Q1054.65 998.015 1056.93 996.308 Q1059.22 994.572 1059.22 991.332 Q1059.22 988.004 1056.85 986.239 Q1054.5 984.445 1050.1 984.445 Q1047.7 984.445 1044.95 984.966 Q1042.21 985.487 1038.91 986.586 L1038.91 981.378 Q1042.23 980.452 1045.13 979.989 Q1048.05 979.526 1050.63 979.526 Q1057.28 979.526 1061.16 982.564 Q1065.03 985.573 1065.03 990.724 Q1065.03 994.312 1062.98 996.8 Q1060.93 999.26 1057.14 1000.21 Z\" fill=\"#000000\" fill-rule=\"nonzero\" fill-opacity=\"1\" /><path clip-path=\"url(#clip070)\" d=\"M1078.14 1018.59 L1087.69 1018.59 L1087.69 985.631 L1077.3 987.715 L1077.3 982.391 L1087.63 980.307 L1093.48 980.307 L1093.48 1018.59 L1103.03 1018.59 L1103.03 1023.51 L1078.14 1023.51 L1078.14 1018.59 Z\" fill=\"#000000\" fill-rule=\"nonzero\" fill-opacity=\"1\" /><path clip-path=\"url(#clip070)\" d=\"M1119.87 1018.59 L1140.27 1018.59 L1140.27 1023.51 L1112.84 1023.51 L1112.84 1018.59 Q1116.16 1015.15 1121.89 1009.36 Q1127.65 1003.54 1129.13 1001.86 Q1131.93 998.71 1133.03 996.54 Q1134.16 994.341 1134.16 992.228 Q1134.16 988.785 1131.73 986.615 Q1129.33 984.445 1125.45 984.445 Q1122.7 984.445 1119.64 985.4 Q1116.6 986.355 1113.12 988.293 L1113.12 982.391 Q1116.66 980.973 1119.72 980.249 Q1122.79 979.526 1125.34 979.526 Q1132.05 979.526 1136.04 982.882 Q1140.03 986.239 1140.03 991.852 Q1140.03 994.514 1139.02 996.916 Q1138.04 999.289 1135.4 1002.53 Q1134.68 1003.37 1130.8 1007.39 Q1126.93 1011.38 1119.87 1018.59 Z\" fill=\"#000000\" fill-rule=\"nonzero\" fill-opacity=\"1\" /><path clip-path=\"url(#clip070)\" d=\"M563.539 1053.58 L583.938 1053.58 L583.938 1058.5 L556.508 1058.5 L556.508 1053.58 Q559.835 1050.14 565.564 1044.35 Q571.322 1038.54 572.798 1036.86 Q575.605 1033.71 576.704 1031.54 Q577.833 1029.34 577.833 1027.22 Q577.833 1023.78 575.402 1021.61 Q573.001 1019.44 569.123 1019.44 Q566.375 1019.44 563.307 1020.4 Q560.269 1021.35 556.797 1023.29 L556.797 1017.39 Q560.327 1015.97 563.394 1015.24 Q566.461 1014.52 569.008 1014.52 Q575.721 1014.52 579.714 1017.88 Q583.707 1021.23 583.707 1026.85 Q583.707 1029.51 582.694 1031.91 Q581.71 1034.28 579.077 1037.52 Q578.354 1038.36 574.476 1042.39 Q570.599 1046.38 563.539 1053.58 Z\" fill=\"#000000\" fill-rule=\"nonzero\" fill-opacity=\"1\" /><path clip-path=\"url(#clip070)\" d=\"M597.219 1053.58 L606.768 1053.58 L606.768 1020.63 L596.38 1022.71 L596.38 1017.39 L606.71 1015.3 L612.555 1015.3 L612.555 1053.58 L622.103 1053.58 L622.103 1058.5 L597.219 1058.5 L597.219 1053.58 Z\" fill=\"#000000\" fill-rule=\"nonzero\" fill-opacity=\"1\" /><path clip-path=\"url(#clip070)\" d=\"M651.617 1035.21 Q655.813 1036.11 658.156 1038.94 Q660.529 1041.78 660.529 1045.95 Q660.529 1052.34 656.131 1055.84 Q651.733 1059.34 643.631 1059.34 Q640.911 1059.34 638.018 1058.79 Q635.153 1058.27 632.086 1057.2 L632.086 1051.56 Q634.517 1052.98 637.41 1053.7 Q640.304 1054.42 643.457 1054.42 Q648.955 1054.42 651.82 1052.25 Q654.713 1050.08 654.713 1045.95 Q654.713 1042.13 652.022 1039.98 Q649.36 1037.81 644.586 1037.81 L639.551 1037.81 L639.551 1033.01 L644.817 1033.01 Q649.129 1033.01 651.415 1031.3 Q653.7 1029.57 653.7 1026.33 Q653.7 1023 651.328 1021.23 Q648.984 1019.44 644.586 1019.44 Q642.184 1019.44 639.435 1019.96 Q636.687 1020.48 633.388 1021.58 L633.388 1016.37 Q636.716 1015.45 639.609 1014.98 Q642.532 1014.52 645.107 1014.52 Q651.762 1014.52 655.639 1017.56 Q659.516 1020.57 659.516 1025.72 Q659.516 1029.31 657.462 1031.8 Q655.408 1034.26 651.617 1035.21 Z\" fill=\"#000000\" fill-rule=\"nonzero\" fill-opacity=\"1\" /></svg>\n"
      ]
     },
     "metadata": {},
     "execution_count": 12
    }
   ],
   "cell_type": "code",
   "source": [
    "using Plots\n",
    "plot(p; ineqlabels=nothing, vertexlabels=[join(Int.(v)) for v in vertices(p)])"
   ],
   "metadata": {},
   "execution_count": 12
  },
  {
   "cell_type": "markdown",
   "source": [
    "Note that the edge directions are precisely the vectors in `directions`:"
   ],
   "metadata": {}
  },
  {
   "outputs": [
    {
     "name": "stdout",
     "output_type": "stream",
     "text": [
      "Rational{BigInt}[0, 1, -1]\n",
      "Rational{BigInt}[1, -1, 0]\n",
      "Rational{BigInt}[1, 0, -1]\n",
      "Rational{BigInt}[1, -1, 0]\n",
      "Rational{BigInt}[1, 0, -1]\n",
      "Rational{BigInt}[0, 1, -1]\n"
     ]
    }
   ],
   "cell_type": "code",
   "source": [
    "using Graphs: edges, src, dst\n",
    "for e in edges(graph(p))\n",
    "    println(reduce(-, collect(vertices(p))[[dst(e), src(e)]]))\n",
    "end"
   ],
   "metadata": {},
   "execution_count": 13
  },
  {
   "cell_type": "markdown",
   "source": [
    "### Projections of hypercubes"
   ],
   "metadata": {}
  },
  {
   "cell_type": "markdown",
   "source": [
    "Our second characterization of permutahedra uses hypercubes and is, in fact,\n",
    "closely related to the first one. Namely, suppose that we collect the directions of the\n",
    "line segments from which `p` was created in a matrix:"
   ],
   "metadata": {}
  },
  {
   "outputs": [
    {
     "output_type": "execute_result",
     "data": {
      "text/plain": "3×3 Matrix{Int64}:\n  1   1   0\n -1   0   1\n  0  -1  -1"
     },
     "metadata": {},
     "execution_count": 14
    }
   ],
   "cell_type": "code",
   "source": [
    "T = hcat(directions...)"
   ],
   "metadata": {},
   "execution_count": 14
  },
  {
   "cell_type": "markdown",
   "source": [
    "This matrix defines a linear map, and after a translation, the image of the 0/1 hypercube under this map\n",
    "turns out to be our permutahedron `p` again."
   ],
   "metadata": {}
  },
  {
   "outputs": [
    {
     "output_type": "execute_result",
     "data": {
      "text/plain": "true"
     },
     "metadata": {},
     "execution_count": 15
    }
   ],
   "cell_type": "code",
   "source": [
    "m = length(directions)\n",
    "c = 1//2 * (cube(m) + ones(Int, m))  # 0/1 hypercube in dimension m\n",
    "p == collect(1:n) + map(x -> T * x, c)"
   ],
   "metadata": {},
   "execution_count": 15
  },
  {
   "cell_type": "markdown",
   "source": [
    "Finally, as for hypercubes, *Spindles.jl* also provides a convenient generator for permutahedra,\n",
    "called `permutahedron`."
   ],
   "metadata": {}
  },
  {
   "outputs": [
    {
     "output_type": "execute_result",
     "data": {
      "text/plain": "true"
     },
     "metadata": {},
     "execution_count": 16
    }
   ],
   "cell_type": "code",
   "source": [
    "p == permutahedron(n)"
   ],
   "metadata": {},
   "execution_count": 16
  },
  {
   "cell_type": "markdown",
   "source": [
    "---\n",
    "\n",
    "*This notebook was generated using [Literate.jl](https://github.com/fredrikekre/Literate.jl).*"
   ],
   "metadata": {}
  }
 ],
 "nbformat_minor": 3,
 "metadata": {
  "language_info": {
   "file_extension": ".jl",
   "mimetype": "application/julia",
   "name": "julia",
   "version": "1.11.5"
  },
  "kernelspec": {
   "name": "julia-1.11",
   "display_name": "Julia 1.11.5",
   "language": "julia"
  }
 },
 "nbformat": 4
}
