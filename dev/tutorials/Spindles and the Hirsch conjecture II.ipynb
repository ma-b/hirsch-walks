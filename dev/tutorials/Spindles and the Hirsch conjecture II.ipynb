{
 "cells": [
  {
   "cell_type": "markdown",
   "source": [
    "# Spindles and the Hirsch conjecture II"
   ],
   "metadata": {}
  },
  {
   "cell_type": "markdown",
   "source": [
    "In the second part of the tutorial, we will be analyzing the lowest-dimensional counterexample to the (bounded)\n",
    "Hirsch conjecture known to date. It is a spindle with 40 facets in dimension 20 that is\n",
    "constructed from a 5-dimensional \"base\" spindle found by\n",
    "[Matschke, Santos, and Weibel](https://arxiv.org/abs/1202.4701). Following the terminology\n",
    "of part I of this tutorial, our goal is to find *good 2-faces*."
   ],
   "metadata": {}
  },
  {
   "cell_type": "markdown",
   "source": [
    "## Dimension 5"
   ],
   "metadata": {}
  },
  {
   "cell_type": "markdown",
   "source": [
    "To begin, let us enumerate the good 2-faces of the 5-dimensional spindle."
   ],
   "metadata": {}
  },
  {
   "outputs": [
    {
     "output_type": "execute_result",
     "data": {
      "text/plain": "2-element Vector{Int64}:\n  1\n 64"
     },
     "metadata": {},
     "execution_count": 1
    }
   ],
   "cell_type": "code",
   "source": [
    "using Spindles\n",
    "A, b, = readineq(\"../../../examples/s-25-5.txt\", BigInt)\n",
    "s = Polytope(A, b)\n",
    "apx = apices(s)"
   ],
   "metadata": {},
   "execution_count": 1
  },
  {
   "cell_type": "markdown",
   "source": [
    "---\n",
    "\n",
    "*This notebook was generated using [Literate.jl](https://github.com/fredrikekre/Literate.jl).*"
   ],
   "metadata": {}
  }
 ],
 "nbformat_minor": 3,
 "metadata": {
  "language_info": {
   "file_extension": ".jl",
   "mimetype": "application/julia",
   "name": "julia",
   "version": "1.11.3"
  },
  "kernelspec": {
   "name": "julia-1.11",
   "display_name": "Julia 1.11.3",
   "language": "julia"
  }
 },
 "nbformat": 4
}
