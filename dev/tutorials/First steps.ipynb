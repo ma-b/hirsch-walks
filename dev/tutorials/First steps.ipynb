{
 "cells": [
  {
   "cell_type": "markdown",
   "source": [
    "# First steps"
   ],
   "metadata": {}
  },
  {
   "cell_type": "markdown",
   "source": [
    "This tutorial demonstrates the basic usage of *Spindles.jl* to create spindles\n",
    "and query basic properties."
   ],
   "metadata": {}
  },
  {
   "cell_type": "markdown",
   "source": [
    "## Creating a spindle"
   ],
   "metadata": {}
  },
  {
   "cell_type": "markdown",
   "source": [
    "Recall that the special property of a spindle is the existence of two vertices\n",
    "(the apices) whose incident facets partition the set of all facets. In this tutorial,\n",
    "we will be working with one of the simplest examples of a spindle: a cube.\n",
    "For example, the unit cube in 3D is given by all points $(x_1,x_2,x_3)$ that satisfy\n",
    "$$\n",
    "-1 \\le x_1 \\le 1, \\quad -1 \\le x_2 \\le 1, \\quad -1 \\le x_3 \\le 1\n",
    "$$"
   ],
   "metadata": {}
  },
  {
   "cell_type": "markdown",
   "source": [
    "In matrix notation, this is equivalent to the system $Ax \\le b$ where"
   ],
   "metadata": {}
  },
  {
   "outputs": [
    {
     "output_type": "execute_result",
     "data": {
      "text/plain": "6×3 Matrix{Int64}:\n  1   0   0\n -1   0   0\n  0   1   0\n  0  -1   0\n  0   0   1\n  0   0  -1"
     },
     "metadata": {},
     "execution_count": 1
    }
   ],
   "cell_type": "code",
   "source": [
    "A = [1 0 0; -1 0 0; 0 1 0; 0 -1 0; 0 0 1; 0 0 -1]"
   ],
   "metadata": {},
   "execution_count": 1
  },
  {
   "cell_type": "markdown",
   "source": [
    "and"
   ],
   "metadata": {}
  },
  {
   "outputs": [
    {
     "output_type": "execute_result",
     "data": {
      "text/plain": "6-element Vector{Int64}:\n 1\n 1\n 1\n 1\n 1\n 1"
     },
     "metadata": {},
     "execution_count": 2
    }
   ],
   "cell_type": "code",
   "source": [
    "b = [1, 1, 1, 1, 1, 1]"
   ],
   "metadata": {},
   "execution_count": 2
  },
  {
   "cell_type": "markdown",
   "source": [
    "*Spindles.jl* provides a data type for representing and analyzing spindles:\n",
    "`Spindle`. We may create an object of this type from our data `A` and `b` as follows:"
   ],
   "metadata": {}
  },
  {
   "outputs": [
    {
     "output_type": "execute_result",
     "data": {
      "text/plain": "Spindle{Rational{BigInt}}"
     },
     "metadata": {},
     "execution_count": 3
    }
   ],
   "cell_type": "code",
   "source": [
    "using Spindles # hide\n",
    "cube = Spindle(A, b)"
   ],
   "metadata": {},
   "execution_count": 3
  },
  {
   "cell_type": "markdown",
   "source": [
    "The `Spindle` constructor already computes two apices. They may be inspected by running"
   ],
   "metadata": {}
  },
  {
   "outputs": [
    {
     "output_type": "execute_result",
     "data": {
      "text/plain": "2-element Vector{Int64}:\n 1\n 8"
     },
     "metadata": {},
     "execution_count": 4
    }
   ],
   "cell_type": "code",
   "source": [
    "apices(cube)"
   ],
   "metadata": {},
   "execution_count": 4
  },
  {
   "cell_type": "markdown",
   "source": [
    "This returns the two indices of the apices as they appear in the list of all (eight) vertices\n",
    "of `cube`. We may list the vertices explicitly as follows:"
   ],
   "metadata": {}
  },
  {
   "outputs": [
    {
     "output_type": "execute_result",
     "data": {
      "text/plain": "8-element iterator of Vector{Rational{BigInt}}:\n Rational{BigInt}[-1, -1, -1]\n Rational{BigInt}[1, -1, -1]\n Rational{BigInt}[-1, 1, -1]\n Rational{BigInt}[1, 1, -1]\n Rational{BigInt}[-1, -1, 1]\n Rational{BigInt}[1, -1, 1]\n Rational{BigInt}[-1, 1, 1]\n Rational{BigInt}[1, 1, 1]"
     },
     "metadata": {},
     "execution_count": 5
    }
   ],
   "cell_type": "code",
   "source": [
    "vertices(cube)"
   ],
   "metadata": {},
   "execution_count": 5
  },
  {
   "cell_type": "markdown",
   "source": [
    "> **Note**\n",
    ">\n",
    "> By default, *Spindles.jl* uses exact rational arithmetic. Note that the components of each\n",
    "> vertex returned by `vertices` are of type `Rational` with numerators\n",
    "> and denominators of type `BigInt` to avoid integer overflows (see the Julia documentation pages on\n",
    "> [rational numbers](https://docs.julialang.org/en/v1/manual/complex-and-rational-numbers/#Rational-Numbers) and\n",
    "> [arbitrary-precision arithmetic](https://docs.julialang.org/en/v1/manual/integers-and-floating-point-numbers/#Arbitrary-Precision-Arithmetic))."
   ],
   "metadata": {}
  },
  {
   "cell_type": "markdown",
   "source": [
    "So the first and last vertex in the list above can take the role of the apices `cube`.\n",
    "However, these two are not unique. In fact, for a cube there are many possible pairs of apices:\n",
    "Take an arbitrary vertex and its antipodal one, i.e., the vertex obtained by flipping the sign\n",
    "of each component. If we want to prescribe an apex, we can use the function `setapex!`\n",
    "that takes as input the index of a vertex of our choice and tries to find a matching second one\n",
    "for a pair of apices:"
   ],
   "metadata": {}
  },
  {
   "outputs": [
    {
     "output_type": "execute_result",
     "data": {
      "text/plain": "2-element Vector{Int64}:\n 3\n 6"
     },
     "metadata": {},
     "execution_count": 6
    }
   ],
   "cell_type": "code",
   "source": [
    "setapex!(cube, 3)"
   ],
   "metadata": {},
   "execution_count": 6
  },
  {
   "cell_type": "markdown",
   "source": [
    "> **Warning**\n",
    ">\n",
    "> `setapex!` overwrites the previously computed apices."
   ],
   "metadata": {}
  },
  {
   "cell_type": "markdown",
   "source": [
    "Calling the function `apices` again now returns"
   ],
   "metadata": {}
  },
  {
   "outputs": [
    {
     "output_type": "execute_result",
     "data": {
      "text/plain": "2-element Vector{Int64}:\n 3\n 6"
     },
     "metadata": {},
     "execution_count": 7
    }
   ],
   "cell_type": "code",
   "source": [
    "apices(cube)"
   ],
   "metadata": {},
   "execution_count": 7
  },
  {
   "cell_type": "markdown",
   "source": [
    "## Working with the graph"
   ],
   "metadata": {}
  },
  {
   "cell_type": "markdown",
   "source": [
    "We may even compute the distance between those two apices in the graph of `cube`:"
   ],
   "metadata": {}
  },
  {
   "outputs": [
    {
     "output_type": "execute_result",
     "data": {
      "text/plain": "3"
     },
     "metadata": {},
     "execution_count": 8
    }
   ],
   "cell_type": "code",
   "source": [
    "dist(cube, apices(cube)...)"
   ],
   "metadata": {},
   "execution_count": 8
  },
  {
   "cell_type": "markdown",
   "source": [
    "> **Note**\n",
    ">\n",
    "> Calling `dist` always refers to the current apices as returned by `apices`.\n",
    "> For example, the above call computes the distance between `3` and `6` (and not between `1` and `8`)."
   ],
   "metadata": {}
  },
  {
   "cell_type": "markdown",
   "source": [
    "Behind the scenes, the call to `dist` first computes the graph of `cube`.\n",
    "The graph can also be accessed directly using `graph`, which returns a graph\n",
    "of a type defined by the [*Graphs.jl*](https://juliagraphs.org/Graphs.jl/) package.\n",
    "For instance, we may verify the well-known fact that cubes are simple by using the\n",
    "functions `dim` and [`Graphs.degree`](https://juliagraphs.org/Graphs.jl/stable/core_functions/core/#Graphs.degree):"
   ],
   "metadata": {}
  },
  {
   "outputs": [
    {
     "output_type": "execute_result",
     "data": {
      "text/plain": "true"
     },
     "metadata": {},
     "execution_count": 9
    }
   ],
   "cell_type": "code",
   "source": [
    "using Graphs: degree\n",
    "all(degree(graph(cube)) .== dim(cube))"
   ],
   "metadata": {},
   "execution_count": 9
  },
  {
   "cell_type": "markdown",
   "source": [
    "## Counting and enumerating faces"
   ],
   "metadata": {}
  },
  {
   "cell_type": "markdown",
   "source": [
    "*Spindles.jl* also provides functions to count and enumerate the faces of `cube`. The following call to\n",
    "`facesofdim` returns a list of all two-dimensional faces, each one given by the indices of its\n",
    "incident facets."
   ],
   "metadata": {}
  },
  {
   "cell_type": "markdown",
   "source": [
    "> **Note**\n",
    ">\n",
    "> Note here that facet indices refer to the corresponding rows of the coefficient matrix `A`."
   ],
   "metadata": {}
  },
  {
   "outputs": [
    {
     "output_type": "execute_result",
     "data": {
      "text/plain": "6-element Vector{Vector{Int64}}:\n [6]\n [4]\n [2]\n [1]\n [3]\n [5]"
     },
     "metadata": {},
     "execution_count": 10
    }
   ],
   "cell_type": "code",
   "source": [
    "facesofdim(cube, 2)"
   ],
   "metadata": {},
   "execution_count": 10
  },
  {
   "cell_type": "markdown",
   "source": [
    "Given that the two-dimensional faces of `cube` are precisely the six facets,\n",
    "this should not be too surprising."
   ],
   "metadata": {}
  },
  {
   "cell_type": "markdown",
   "source": [
    "> **Tip**\n",
    ">\n",
    "> To count the faces of a given dimension without explicitly producing a list,\n",
    "> use the function `nfacesofdim`."
   ],
   "metadata": {}
  },
  {
   "cell_type": "markdown",
   "source": [
    "Let us list all vertices contained in the first facet."
   ],
   "metadata": {}
  },
  {
   "outputs": [
    {
     "name": "stdout",
     "output_type": "stream",
     "text": [
      "Rational{BigInt}[1, -1, -1]\n",
      "Rational{BigInt}[1, 1, -1]\n",
      "Rational{BigInt}[1, -1, 1]\n",
      "Rational{BigInt}[1, 1, 1]\n"
     ]
    }
   ],
   "cell_type": "code",
   "source": [
    "for v in incidentvertices(cube, [1])\n",
    "    println(collect(vertices(cube))[v])\n",
    "end"
   ],
   "metadata": {},
   "execution_count": 11
  },
  {
   "cell_type": "markdown",
   "source": [
    "As expected, we obtain precisely the four vertices whose first component is equal to one."
   ],
   "metadata": {}
  },
  {
   "cell_type": "markdown",
   "source": [
    "> **Note**\n",
    ">\n",
    "> `vertices` returns an iterator. To access a specific element,\n",
    "> use [`collect`](https://docs.julialang.org/en/v1/base/collections/#Base.collect-Tuple{Any})\n",
    "> as in the code above."
   ],
   "metadata": {}
  },
  {
   "cell_type": "markdown",
   "source": [
    "---\n",
    "\n",
    "*This notebook was generated using [Literate.jl](https://github.com/fredrikekre/Literate.jl).*"
   ],
   "metadata": {}
  }
 ],
 "nbformat_minor": 3,
 "metadata": {
  "language_info": {
   "file_extension": ".jl",
   "mimetype": "application/julia",
   "name": "julia",
   "version": "1.11.3"
  },
  "kernelspec": {
   "name": "julia-1.11",
   "display_name": "Julia 1.11.3",
   "language": "julia"
  }
 },
 "nbformat": 4
}
